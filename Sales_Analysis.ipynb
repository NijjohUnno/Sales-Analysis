{
  "nbformat": 4,
  "nbformat_minor": 0,
  "metadata": {
    "colab": {
      "provenance": [],
      "mount_file_id": "1B7jrLxR-TSlXSrXU50ox0d1hizAgU8Sn",
      "authorship_tag": "ABX9TyPEQuvSr0a1zDvxB2mnDodj",
      "include_colab_link": true
    },
    "kernelspec": {
      "name": "python3",
      "display_name": "Python 3"
    },
    "language_info": {
      "name": "python"
    }
  },
  "cells": [
    {
      "cell_type": "markdown",
      "metadata": {
        "id": "view-in-github",
        "colab_type": "text"
      },
      "source": [
        "<a href=\"https://colab.research.google.com/github/NijjohUnno/Sales-Analysis/blob/main/Sales_Analysis.ipynb\" target=\"_parent\"><img src=\"https://colab.research.google.com/assets/colab-badge.svg\" alt=\"Open In Colab\"/></a>"
      ]
    },
    {
      "cell_type": "markdown",
      "source": [
        "# **import the python Libraries and the dataset**"
      ],
      "metadata": {
        "id": "ZLbYO6dJ8VUO"
      }
    },
    {
      "cell_type": "code",
      "execution_count": 2,
      "metadata": {
        "id": "91Y3rbg-4pji"
      },
      "outputs": [],
      "source": [
        "import pandas as pd\n",
        "import seaborn as sns\n",
        "import numpy as np\n",
        "import matplotlib.pyplot as plt\n",
        "\n",
        "January = pd.read_csv('/content/drive/MyDrive/Sales_Data/Sales_January_2019.csv')\n",
        "February = pd.read_csv('/content/drive/MyDrive/Sales_Data/Sales_February_2019.csv')\n",
        "March = pd.read_csv('/content/drive/MyDrive/Sales_Data/Sales_March_2019.csv')\n",
        "April = pd.read_csv('/content/drive/MyDrive/Sales_Data/Sales_April_2019.csv')\n",
        "May = pd.read_csv('/content/drive/MyDrive/Sales_Data/Sales_March_2019.csv')\n",
        "June = pd.read_csv('/content/drive/MyDrive/Sales_Data/Sales_June_2019.csv')\n",
        "July = pd.read_csv('/content/drive/MyDrive/Sales_Data/Sales_July_2019.csv')\n",
        "August = pd.read_csv('/content/drive/MyDrive/Sales_Data/Sales_August_2019.csv')\n",
        "September = pd.read_csv('/content/drive/MyDrive/Sales_Data/Sales_September_2019.csv')\n",
        "October = pd.read_csv('/content/drive/MyDrive/Sales_Data/Sales_October_2019.csv')\n",
        "November = pd.read_csv('/content/drive/MyDrive/Sales_Data/Sales_November_2019.csv')\n",
        "December = pd.read_csv('/content/drive/MyDrive/Sales_Data/Sales_December_2019.csv')"
      ]
    },
    {
      "cell_type": "code",
      "source": [
        "January.head()\n"
      ],
      "metadata": {
        "colab": {
          "base_uri": "https://localhost:8080/",
          "height": 206
        },
        "id": "VUogofAU-Ja5",
        "outputId": "2b20d7d2-6b99-4af3-f98f-95ba5c8c8f68"
      },
      "execution_count": null,
      "outputs": [
        {
          "output_type": "execute_result",
          "data": {
            "text/plain": [
              "  Order ID                   Product Quantity Ordered Price Each  \\\n",
              "0   141234                    iPhone                1        700   \n",
              "1   141235  Lightning Charging Cable                1      14.95   \n",
              "2   141236          Wired Headphones                2      11.99   \n",
              "3   141237          27in FHD Monitor                1     149.99   \n",
              "4   141238          Wired Headphones                1      11.99   \n",
              "\n",
              "       Order Date                       Purchase Address  \n",
              "0  01/22/19 21:25        944 Walnut St, Boston, MA 02215  \n",
              "1  01/28/19 14:15       185 Maple St, Portland, OR 97035  \n",
              "2  01/17/19 13:33  538 Adams St, San Francisco, CA 94016  \n",
              "3  01/05/19 20:33     738 10th St, Los Angeles, CA 90001  \n",
              "4  01/25/19 11:59          387 10th St, Austin, TX 73301  "
            ],
            "text/html": [
              "\n",
              "  <div id=\"df-0deb566b-a36a-4e12-a3b0-58651a016f38\">\n",
              "    <div class=\"colab-df-container\">\n",
              "      <div>\n",
              "<style scoped>\n",
              "    .dataframe tbody tr th:only-of-type {\n",
              "        vertical-align: middle;\n",
              "    }\n",
              "\n",
              "    .dataframe tbody tr th {\n",
              "        vertical-align: top;\n",
              "    }\n",
              "\n",
              "    .dataframe thead th {\n",
              "        text-align: right;\n",
              "    }\n",
              "</style>\n",
              "<table border=\"1\" class=\"dataframe\">\n",
              "  <thead>\n",
              "    <tr style=\"text-align: right;\">\n",
              "      <th></th>\n",
              "      <th>Order ID</th>\n",
              "      <th>Product</th>\n",
              "      <th>Quantity Ordered</th>\n",
              "      <th>Price Each</th>\n",
              "      <th>Order Date</th>\n",
              "      <th>Purchase Address</th>\n",
              "    </tr>\n",
              "  </thead>\n",
              "  <tbody>\n",
              "    <tr>\n",
              "      <th>0</th>\n",
              "      <td>141234</td>\n",
              "      <td>iPhone</td>\n",
              "      <td>1</td>\n",
              "      <td>700</td>\n",
              "      <td>01/22/19 21:25</td>\n",
              "      <td>944 Walnut St, Boston, MA 02215</td>\n",
              "    </tr>\n",
              "    <tr>\n",
              "      <th>1</th>\n",
              "      <td>141235</td>\n",
              "      <td>Lightning Charging Cable</td>\n",
              "      <td>1</td>\n",
              "      <td>14.95</td>\n",
              "      <td>01/28/19 14:15</td>\n",
              "      <td>185 Maple St, Portland, OR 97035</td>\n",
              "    </tr>\n",
              "    <tr>\n",
              "      <th>2</th>\n",
              "      <td>141236</td>\n",
              "      <td>Wired Headphones</td>\n",
              "      <td>2</td>\n",
              "      <td>11.99</td>\n",
              "      <td>01/17/19 13:33</td>\n",
              "      <td>538 Adams St, San Francisco, CA 94016</td>\n",
              "    </tr>\n",
              "    <tr>\n",
              "      <th>3</th>\n",
              "      <td>141237</td>\n",
              "      <td>27in FHD Monitor</td>\n",
              "      <td>1</td>\n",
              "      <td>149.99</td>\n",
              "      <td>01/05/19 20:33</td>\n",
              "      <td>738 10th St, Los Angeles, CA 90001</td>\n",
              "    </tr>\n",
              "    <tr>\n",
              "      <th>4</th>\n",
              "      <td>141238</td>\n",
              "      <td>Wired Headphones</td>\n",
              "      <td>1</td>\n",
              "      <td>11.99</td>\n",
              "      <td>01/25/19 11:59</td>\n",
              "      <td>387 10th St, Austin, TX 73301</td>\n",
              "    </tr>\n",
              "  </tbody>\n",
              "</table>\n",
              "</div>\n",
              "      <button class=\"colab-df-convert\" onclick=\"convertToInteractive('df-0deb566b-a36a-4e12-a3b0-58651a016f38')\"\n",
              "              title=\"Convert this dataframe to an interactive table.\"\n",
              "              style=\"display:none;\">\n",
              "        \n",
              "  <svg xmlns=\"http://www.w3.org/2000/svg\" height=\"24px\"viewBox=\"0 0 24 24\"\n",
              "       width=\"24px\">\n",
              "    <path d=\"M0 0h24v24H0V0z\" fill=\"none\"/>\n",
              "    <path d=\"M18.56 5.44l.94 2.06.94-2.06 2.06-.94-2.06-.94-.94-2.06-.94 2.06-2.06.94zm-11 1L8.5 8.5l.94-2.06 2.06-.94-2.06-.94L8.5 2.5l-.94 2.06-2.06.94zm10 10l.94 2.06.94-2.06 2.06-.94-2.06-.94-.94-2.06-.94 2.06-2.06.94z\"/><path d=\"M17.41 7.96l-1.37-1.37c-.4-.4-.92-.59-1.43-.59-.52 0-1.04.2-1.43.59L10.3 9.45l-7.72 7.72c-.78.78-.78 2.05 0 2.83L4 21.41c.39.39.9.59 1.41.59.51 0 1.02-.2 1.41-.59l7.78-7.78 2.81-2.81c.8-.78.8-2.07 0-2.86zM5.41 20L4 18.59l7.72-7.72 1.47 1.35L5.41 20z\"/>\n",
              "  </svg>\n",
              "      </button>\n",
              "      \n",
              "  <style>\n",
              "    .colab-df-container {\n",
              "      display:flex;\n",
              "      flex-wrap:wrap;\n",
              "      gap: 12px;\n",
              "    }\n",
              "\n",
              "    .colab-df-convert {\n",
              "      background-color: #E8F0FE;\n",
              "      border: none;\n",
              "      border-radius: 50%;\n",
              "      cursor: pointer;\n",
              "      display: none;\n",
              "      fill: #1967D2;\n",
              "      height: 32px;\n",
              "      padding: 0 0 0 0;\n",
              "      width: 32px;\n",
              "    }\n",
              "\n",
              "    .colab-df-convert:hover {\n",
              "      background-color: #E2EBFA;\n",
              "      box-shadow: 0px 1px 2px rgba(60, 64, 67, 0.3), 0px 1px 3px 1px rgba(60, 64, 67, 0.15);\n",
              "      fill: #174EA6;\n",
              "    }\n",
              "\n",
              "    [theme=dark] .colab-df-convert {\n",
              "      background-color: #3B4455;\n",
              "      fill: #D2E3FC;\n",
              "    }\n",
              "\n",
              "    [theme=dark] .colab-df-convert:hover {\n",
              "      background-color: #434B5C;\n",
              "      box-shadow: 0px 1px 3px 1px rgba(0, 0, 0, 0.15);\n",
              "      filter: drop-shadow(0px 1px 2px rgba(0, 0, 0, 0.3));\n",
              "      fill: #FFFFFF;\n",
              "    }\n",
              "  </style>\n",
              "\n",
              "      <script>\n",
              "        const buttonEl =\n",
              "          document.querySelector('#df-0deb566b-a36a-4e12-a3b0-58651a016f38 button.colab-df-convert');\n",
              "        buttonEl.style.display =\n",
              "          google.colab.kernel.accessAllowed ? 'block' : 'none';\n",
              "\n",
              "        async function convertToInteractive(key) {\n",
              "          const element = document.querySelector('#df-0deb566b-a36a-4e12-a3b0-58651a016f38');\n",
              "          const dataTable =\n",
              "            await google.colab.kernel.invokeFunction('convertToInteractive',\n",
              "                                                     [key], {});\n",
              "          if (!dataTable) return;\n",
              "\n",
              "          const docLinkHtml = 'Like what you see? Visit the ' +\n",
              "            '<a target=\"_blank\" href=https://colab.research.google.com/notebooks/data_table.ipynb>data table notebook</a>'\n",
              "            + ' to learn more about interactive tables.';\n",
              "          element.innerHTML = '';\n",
              "          dataTable['output_type'] = 'display_data';\n",
              "          await google.colab.output.renderOutput(dataTable, element);\n",
              "          const docLink = document.createElement('div');\n",
              "          docLink.innerHTML = docLinkHtml;\n",
              "          element.appendChild(docLink);\n",
              "        }\n",
              "      </script>\n",
              "    </div>\n",
              "  </div>\n",
              "  "
            ]
          },
          "metadata": {},
          "execution_count": 3
        }
      ]
    },
    {
      "cell_type": "markdown",
      "source": [
        "**Merging the 12 months sales Data into a single file.**"
      ],
      "metadata": {
        "id": "e_5WQN3z8xLE"
      }
    },
    {
      "cell_type": "code",
      "source": [
        "sales_year = pd.concat([January, February, March,April, May, June, July, August, September, October, November, December])\n",
        "\n"
      ],
      "metadata": {
        "id": "KW08SGgO8n2K"
      },
      "execution_count": 4,
      "outputs": []
    },
    {
      "cell_type": "markdown",
      "source": [
        "**Read updated DataFrame.**"
      ],
      "metadata": {
        "id": "L17K9ydVA76y"
      }
    },
    {
      "cell_type": "code",
      "source": [
        "sales_year.head(10)"
      ],
      "metadata": {
        "colab": {
          "base_uri": "https://localhost:8080/",
          "height": 363
        },
        "id": "6-UlmDs5-xsO",
        "outputId": "ed88ef30-57db-4616-8ec9-874ee48cb240"
      },
      "execution_count": null,
      "outputs": [
        {
          "output_type": "execute_result",
          "data": {
            "text/plain": [
              "  Order ID                     Product Quantity Ordered Price Each  \\\n",
              "0   141234                      iPhone                1        700   \n",
              "1   141235    Lightning Charging Cable                1      14.95   \n",
              "2   141236            Wired Headphones                2      11.99   \n",
              "3   141237            27in FHD Monitor                1     149.99   \n",
              "4   141238            Wired Headphones                1      11.99   \n",
              "5   141239      AAA Batteries (4-pack)                1       2.99   \n",
              "6   141240      27in 4K Gaming Monitor                1     389.99   \n",
              "7   141241        USB-C Charging Cable                1      11.95   \n",
              "8   141242  Bose SoundSport Headphones                1      99.99   \n",
              "9   141243    Apple Airpods Headphones                1        150   \n",
              "\n",
              "       Order Date                         Purchase Address  \n",
              "0  01/22/19 21:25          944 Walnut St, Boston, MA 02215  \n",
              "1  01/28/19 14:15         185 Maple St, Portland, OR 97035  \n",
              "2  01/17/19 13:33    538 Adams St, San Francisco, CA 94016  \n",
              "3  01/05/19 20:33       738 10th St, Los Angeles, CA 90001  \n",
              "4  01/25/19 11:59            387 10th St, Austin, TX 73301  \n",
              "5  01/29/19 20:22   775 Willow St, San Francisco, CA 94016  \n",
              "6  01/26/19 12:16       979 Park St, Los Angeles, CA 90001  \n",
              "7  01/05/19 12:04      181 6th St, San Francisco, CA 94016  \n",
              "8  01/01/19 10:30     867 Willow St, Los Angeles, CA 90001  \n",
              "9  01/22/19 21:20  657 Johnson St, San Francisco, CA 94016  "
            ],
            "text/html": [
              "\n",
              "  <div id=\"df-852baad7-825c-45f4-a2ed-0311fd7309ef\" class=\"colab-df-container\">\n",
              "    <div>\n",
              "<style scoped>\n",
              "    .dataframe tbody tr th:only-of-type {\n",
              "        vertical-align: middle;\n",
              "    }\n",
              "\n",
              "    .dataframe tbody tr th {\n",
              "        vertical-align: top;\n",
              "    }\n",
              "\n",
              "    .dataframe thead th {\n",
              "        text-align: right;\n",
              "    }\n",
              "</style>\n",
              "<table border=\"1\" class=\"dataframe\">\n",
              "  <thead>\n",
              "    <tr style=\"text-align: right;\">\n",
              "      <th></th>\n",
              "      <th>Order ID</th>\n",
              "      <th>Product</th>\n",
              "      <th>Quantity Ordered</th>\n",
              "      <th>Price Each</th>\n",
              "      <th>Order Date</th>\n",
              "      <th>Purchase Address</th>\n",
              "    </tr>\n",
              "  </thead>\n",
              "  <tbody>\n",
              "    <tr>\n",
              "      <th>0</th>\n",
              "      <td>141234</td>\n",
              "      <td>iPhone</td>\n",
              "      <td>1</td>\n",
              "      <td>700</td>\n",
              "      <td>01/22/19 21:25</td>\n",
              "      <td>944 Walnut St, Boston, MA 02215</td>\n",
              "    </tr>\n",
              "    <tr>\n",
              "      <th>1</th>\n",
              "      <td>141235</td>\n",
              "      <td>Lightning Charging Cable</td>\n",
              "      <td>1</td>\n",
              "      <td>14.95</td>\n",
              "      <td>01/28/19 14:15</td>\n",
              "      <td>185 Maple St, Portland, OR 97035</td>\n",
              "    </tr>\n",
              "    <tr>\n",
              "      <th>2</th>\n",
              "      <td>141236</td>\n",
              "      <td>Wired Headphones</td>\n",
              "      <td>2</td>\n",
              "      <td>11.99</td>\n",
              "      <td>01/17/19 13:33</td>\n",
              "      <td>538 Adams St, San Francisco, CA 94016</td>\n",
              "    </tr>\n",
              "    <tr>\n",
              "      <th>3</th>\n",
              "      <td>141237</td>\n",
              "      <td>27in FHD Monitor</td>\n",
              "      <td>1</td>\n",
              "      <td>149.99</td>\n",
              "      <td>01/05/19 20:33</td>\n",
              "      <td>738 10th St, Los Angeles, CA 90001</td>\n",
              "    </tr>\n",
              "    <tr>\n",
              "      <th>4</th>\n",
              "      <td>141238</td>\n",
              "      <td>Wired Headphones</td>\n",
              "      <td>1</td>\n",
              "      <td>11.99</td>\n",
              "      <td>01/25/19 11:59</td>\n",
              "      <td>387 10th St, Austin, TX 73301</td>\n",
              "    </tr>\n",
              "    <tr>\n",
              "      <th>5</th>\n",
              "      <td>141239</td>\n",
              "      <td>AAA Batteries (4-pack)</td>\n",
              "      <td>1</td>\n",
              "      <td>2.99</td>\n",
              "      <td>01/29/19 20:22</td>\n",
              "      <td>775 Willow St, San Francisco, CA 94016</td>\n",
              "    </tr>\n",
              "    <tr>\n",
              "      <th>6</th>\n",
              "      <td>141240</td>\n",
              "      <td>27in 4K Gaming Monitor</td>\n",
              "      <td>1</td>\n",
              "      <td>389.99</td>\n",
              "      <td>01/26/19 12:16</td>\n",
              "      <td>979 Park St, Los Angeles, CA 90001</td>\n",
              "    </tr>\n",
              "    <tr>\n",
              "      <th>7</th>\n",
              "      <td>141241</td>\n",
              "      <td>USB-C Charging Cable</td>\n",
              "      <td>1</td>\n",
              "      <td>11.95</td>\n",
              "      <td>01/05/19 12:04</td>\n",
              "      <td>181 6th St, San Francisco, CA 94016</td>\n",
              "    </tr>\n",
              "    <tr>\n",
              "      <th>8</th>\n",
              "      <td>141242</td>\n",
              "      <td>Bose SoundSport Headphones</td>\n",
              "      <td>1</td>\n",
              "      <td>99.99</td>\n",
              "      <td>01/01/19 10:30</td>\n",
              "      <td>867 Willow St, Los Angeles, CA 90001</td>\n",
              "    </tr>\n",
              "    <tr>\n",
              "      <th>9</th>\n",
              "      <td>141243</td>\n",
              "      <td>Apple Airpods Headphones</td>\n",
              "      <td>1</td>\n",
              "      <td>150</td>\n",
              "      <td>01/22/19 21:20</td>\n",
              "      <td>657 Johnson St, San Francisco, CA 94016</td>\n",
              "    </tr>\n",
              "  </tbody>\n",
              "</table>\n",
              "</div>\n",
              "    <div class=\"colab-df-buttons\">\n",
              "\n",
              "  <div class=\"colab-df-container\">\n",
              "    <button class=\"colab-df-convert\" onclick=\"convertToInteractive('df-852baad7-825c-45f4-a2ed-0311fd7309ef')\"\n",
              "            title=\"Convert this dataframe to an interactive table.\"\n",
              "            style=\"display:none;\">\n",
              "\n",
              "  <svg xmlns=\"http://www.w3.org/2000/svg\" height=\"24px\" viewBox=\"0 -960 960 960\">\n",
              "    <path d=\"M120-120v-720h720v720H120Zm60-500h600v-160H180v160Zm220 220h160v-160H400v160Zm0 220h160v-160H400v160ZM180-400h160v-160H180v160Zm440 0h160v-160H620v160ZM180-180h160v-160H180v160Zm440 0h160v-160H620v160Z\"/>\n",
              "  </svg>\n",
              "    </button>\n",
              "\n",
              "  <style>\n",
              "    .colab-df-container {\n",
              "      display:flex;\n",
              "      gap: 12px;\n",
              "    }\n",
              "\n",
              "    .colab-df-convert {\n",
              "      background-color: #E8F0FE;\n",
              "      border: none;\n",
              "      border-radius: 50%;\n",
              "      cursor: pointer;\n",
              "      display: none;\n",
              "      fill: #1967D2;\n",
              "      height: 32px;\n",
              "      padding: 0 0 0 0;\n",
              "      width: 32px;\n",
              "    }\n",
              "\n",
              "    .colab-df-convert:hover {\n",
              "      background-color: #E2EBFA;\n",
              "      box-shadow: 0px 1px 2px rgba(60, 64, 67, 0.3), 0px 1px 3px 1px rgba(60, 64, 67, 0.15);\n",
              "      fill: #174EA6;\n",
              "    }\n",
              "\n",
              "    .colab-df-buttons div {\n",
              "      margin-bottom: 4px;\n",
              "    }\n",
              "\n",
              "    [theme=dark] .colab-df-convert {\n",
              "      background-color: #3B4455;\n",
              "      fill: #D2E3FC;\n",
              "    }\n",
              "\n",
              "    [theme=dark] .colab-df-convert:hover {\n",
              "      background-color: #434B5C;\n",
              "      box-shadow: 0px 1px 3px 1px rgba(0, 0, 0, 0.15);\n",
              "      filter: drop-shadow(0px 1px 2px rgba(0, 0, 0, 0.3));\n",
              "      fill: #FFFFFF;\n",
              "    }\n",
              "  </style>\n",
              "\n",
              "    <script>\n",
              "      const buttonEl =\n",
              "        document.querySelector('#df-852baad7-825c-45f4-a2ed-0311fd7309ef button.colab-df-convert');\n",
              "      buttonEl.style.display =\n",
              "        google.colab.kernel.accessAllowed ? 'block' : 'none';\n",
              "\n",
              "      async function convertToInteractive(key) {\n",
              "        const element = document.querySelector('#df-852baad7-825c-45f4-a2ed-0311fd7309ef');\n",
              "        const dataTable =\n",
              "          await google.colab.kernel.invokeFunction('convertToInteractive',\n",
              "                                                    [key], {});\n",
              "        if (!dataTable) return;\n",
              "\n",
              "        const docLinkHtml = 'Like what you see? Visit the ' +\n",
              "          '<a target=\"_blank\" href=https://colab.research.google.com/notebooks/data_table.ipynb>data table notebook</a>'\n",
              "          + ' to learn more about interactive tables.';\n",
              "        element.innerHTML = '';\n",
              "        dataTable['output_type'] = 'display_data';\n",
              "        await google.colab.output.renderOutput(dataTable, element);\n",
              "        const docLink = document.createElement('div');\n",
              "        docLink.innerHTML = docLinkHtml;\n",
              "        element.appendChild(docLink);\n",
              "      }\n",
              "    </script>\n",
              "  </div>\n",
              "\n",
              "\n",
              "<div id=\"df-80dfc73a-dbda-4d96-afba-4a970647f70b\">\n",
              "  <button class=\"colab-df-quickchart\" onclick=\"quickchart('df-80dfc73a-dbda-4d96-afba-4a970647f70b')\"\n",
              "            title=\"Suggest charts\"\n",
              "            style=\"display:none;\">\n",
              "\n",
              "<svg xmlns=\"http://www.w3.org/2000/svg\" height=\"24px\"viewBox=\"0 0 24 24\"\n",
              "     width=\"24px\">\n",
              "    <g>\n",
              "        <path d=\"M19 3H5c-1.1 0-2 .9-2 2v14c0 1.1.9 2 2 2h14c1.1 0 2-.9 2-2V5c0-1.1-.9-2-2-2zM9 17H7v-7h2v7zm4 0h-2V7h2v10zm4 0h-2v-4h2v4z\"/>\n",
              "    </g>\n",
              "</svg>\n",
              "  </button>\n",
              "\n",
              "<style>\n",
              "  .colab-df-quickchart {\n",
              "      --bg-color: #E8F0FE;\n",
              "      --fill-color: #1967D2;\n",
              "      --hover-bg-color: #E2EBFA;\n",
              "      --hover-fill-color: #174EA6;\n",
              "      --disabled-fill-color: #AAA;\n",
              "      --disabled-bg-color: #DDD;\n",
              "  }\n",
              "\n",
              "  [theme=dark] .colab-df-quickchart {\n",
              "      --bg-color: #3B4455;\n",
              "      --fill-color: #D2E3FC;\n",
              "      --hover-bg-color: #434B5C;\n",
              "      --hover-fill-color: #FFFFFF;\n",
              "      --disabled-bg-color: #3B4455;\n",
              "      --disabled-fill-color: #666;\n",
              "  }\n",
              "\n",
              "  .colab-df-quickchart {\n",
              "    background-color: var(--bg-color);\n",
              "    border: none;\n",
              "    border-radius: 50%;\n",
              "    cursor: pointer;\n",
              "    display: none;\n",
              "    fill: var(--fill-color);\n",
              "    height: 32px;\n",
              "    padding: 0;\n",
              "    width: 32px;\n",
              "  }\n",
              "\n",
              "  .colab-df-quickchart:hover {\n",
              "    background-color: var(--hover-bg-color);\n",
              "    box-shadow: 0 1px 2px rgba(60, 64, 67, 0.3), 0 1px 3px 1px rgba(60, 64, 67, 0.15);\n",
              "    fill: var(--button-hover-fill-color);\n",
              "  }\n",
              "\n",
              "  .colab-df-quickchart-complete:disabled,\n",
              "  .colab-df-quickchart-complete:disabled:hover {\n",
              "    background-color: var(--disabled-bg-color);\n",
              "    fill: var(--disabled-fill-color);\n",
              "    box-shadow: none;\n",
              "  }\n",
              "\n",
              "  .colab-df-spinner {\n",
              "    border: 2px solid var(--fill-color);\n",
              "    border-color: transparent;\n",
              "    border-bottom-color: var(--fill-color);\n",
              "    animation:\n",
              "      spin 1s steps(1) infinite;\n",
              "  }\n",
              "\n",
              "  @keyframes spin {\n",
              "    0% {\n",
              "      border-color: transparent;\n",
              "      border-bottom-color: var(--fill-color);\n",
              "      border-left-color: var(--fill-color);\n",
              "    }\n",
              "    20% {\n",
              "      border-color: transparent;\n",
              "      border-left-color: var(--fill-color);\n",
              "      border-top-color: var(--fill-color);\n",
              "    }\n",
              "    30% {\n",
              "      border-color: transparent;\n",
              "      border-left-color: var(--fill-color);\n",
              "      border-top-color: var(--fill-color);\n",
              "      border-right-color: var(--fill-color);\n",
              "    }\n",
              "    40% {\n",
              "      border-color: transparent;\n",
              "      border-right-color: var(--fill-color);\n",
              "      border-top-color: var(--fill-color);\n",
              "    }\n",
              "    60% {\n",
              "      border-color: transparent;\n",
              "      border-right-color: var(--fill-color);\n",
              "    }\n",
              "    80% {\n",
              "      border-color: transparent;\n",
              "      border-right-color: var(--fill-color);\n",
              "      border-bottom-color: var(--fill-color);\n",
              "    }\n",
              "    90% {\n",
              "      border-color: transparent;\n",
              "      border-bottom-color: var(--fill-color);\n",
              "    }\n",
              "  }\n",
              "</style>\n",
              "\n",
              "  <script>\n",
              "    async function quickchart(key) {\n",
              "      const quickchartButtonEl =\n",
              "        document.querySelector('#' + key + ' button');\n",
              "      quickchartButtonEl.disabled = true;  // To prevent multiple clicks.\n",
              "      quickchartButtonEl.classList.add('colab-df-spinner');\n",
              "      try {\n",
              "        const charts = await google.colab.kernel.invokeFunction(\n",
              "            'suggestCharts', [key], {});\n",
              "      } catch (error) {\n",
              "        console.error('Error during call to suggestCharts:', error);\n",
              "      }\n",
              "      quickchartButtonEl.classList.remove('colab-df-spinner');\n",
              "      quickchartButtonEl.classList.add('colab-df-quickchart-complete');\n",
              "    }\n",
              "    (() => {\n",
              "      let quickchartButtonEl =\n",
              "        document.querySelector('#df-80dfc73a-dbda-4d96-afba-4a970647f70b button');\n",
              "      quickchartButtonEl.style.display =\n",
              "        google.colab.kernel.accessAllowed ? 'block' : 'none';\n",
              "    })();\n",
              "  </script>\n",
              "</div>\n",
              "\n",
              "    </div>\n",
              "  </div>\n"
            ]
          },
          "metadata": {},
          "execution_count": 4
        }
      ]
    },
    {
      "cell_type": "markdown",
      "source": [
        "**Check the new data frame**"
      ],
      "metadata": {
        "id": "YNWZ3oFsrd1S"
      }
    },
    {
      "cell_type": "code",
      "source": [
        "sales_year.info()"
      ],
      "metadata": {
        "id": "vGh6GQ_RrlDr",
        "outputId": "a1ed1fbc-0fd0-47c9-e3f4-e51d93b7eca8",
        "colab": {
          "base_uri": "https://localhost:8080/"
        }
      },
      "execution_count": null,
      "outputs": [
        {
          "output_type": "stream",
          "name": "stdout",
          "text": [
            "<class 'pandas.core.frame.DataFrame'>\n",
            "Int64Index: 185441 entries, 0 to 25116\n",
            "Data columns (total 6 columns):\n",
            " #   Column            Non-Null Count   Dtype \n",
            "---  ------            --------------   ----- \n",
            " 0   Order ID          184907 non-null  object\n",
            " 1   Product           184907 non-null  object\n",
            " 2   Quantity Ordered  184907 non-null  object\n",
            " 3   Price Each        184907 non-null  object\n",
            " 4   Order Date        184907 non-null  object\n",
            " 5   Purchase Address  184907 non-null  object\n",
            "dtypes: object(6)\n",
            "memory usage: 9.9+ MB\n"
          ]
        }
      ]
    },
    {
      "cell_type": "markdown",
      "source": [
        "**Summary Statistics**"
      ],
      "metadata": {
        "id": "a6l-qBIWmW3_"
      }
    },
    {
      "cell_type": "markdown",
      "source": [
        "**Checking Sum of null values for each column**"
      ],
      "metadata": {
        "id": "g34X7cODB3OY"
      }
    },
    {
      "cell_type": "code",
      "source": [
        "print(sales_year.isnull().sum())"
      ],
      "metadata": {
        "id": "U3401OdmBt5a",
        "colab": {
          "base_uri": "https://localhost:8080/"
        },
        "outputId": "d536fe0d-05b5-4228-a7ad-21e0b7c1f24d"
      },
      "execution_count": null,
      "outputs": [
        {
          "output_type": "stream",
          "name": "stdout",
          "text": [
            "Order ID            534\n",
            "Product             534\n",
            "Quantity Ordered    534\n",
            "Price Each          534\n",
            "Order Date          534\n",
            "Purchase Address    534\n",
            "dtype: int64\n"
          ]
        }
      ]
    },
    {
      "cell_type": "markdown",
      "source": [
        "**Checking rows of Nan**"
      ],
      "metadata": {
        "id": "8-iDkrEFggIV"
      }
    },
    {
      "cell_type": "code",
      "source": [
        "nan_rows = sales_year[sales_year.isna().any(axis=1)]\n",
        "print(nan_rows)"
      ],
      "metadata": {
        "colab": {
          "base_uri": "https://localhost:8080/"
        },
        "id": "6ufpSVOZgXiI",
        "outputId": "1c8d1e35-24a8-4e6e-90b0-729acaddb0c5"
      },
      "execution_count": null,
      "outputs": [
        {
          "output_type": "stream",
          "name": "stdout",
          "text": [
            "      Order ID Product Quantity Ordered Price Each Order Date Purchase Address\n",
            "664        NaN     NaN              NaN        NaN        NaN              NaN\n",
            "678        NaN     NaN              NaN        NaN        NaN              NaN\n",
            "797        NaN     NaN              NaN        NaN        NaN              NaN\n",
            "876        NaN     NaN              NaN        NaN        NaN              NaN\n",
            "1299       NaN     NaN              NaN        NaN        NaN              NaN\n",
            "...        ...     ...              ...        ...        ...              ...\n",
            "22945      NaN     NaN              NaN        NaN        NaN              NaN\n",
            "22962      NaN     NaN              NaN        NaN        NaN              NaN\n",
            "23309      NaN     NaN              NaN        NaN        NaN              NaN\n",
            "23996      NaN     NaN              NaN        NaN        NaN              NaN\n",
            "24730      NaN     NaN              NaN        NaN        NaN              NaN\n",
            "\n",
            "[534 rows x 6 columns]\n"
          ]
        }
      ]
    },
    {
      "cell_type": "markdown",
      "source": [
        "**Dropping rows of Nan**"
      ],
      "metadata": {
        "id": "H9kZHuOQh49g"
      }
    },
    {
      "cell_type": "code",
      "source": [
        "sales_year = sales_year.dropna()\n",
        "nan_rows = sales_year[sales_year.isna().any(axis=1)]\n",
        "print(nan_rows)"
      ],
      "metadata": {
        "colab": {
          "base_uri": "https://localhost:8080/"
        },
        "id": "daTMUONgh4jT",
        "outputId": "eeac1a2b-cc1e-4f79-ad13-4eff29c7f457"
      },
      "execution_count": null,
      "outputs": [
        {
          "output_type": "stream",
          "name": "stdout",
          "text": [
            "Empty DataFrame\n",
            "Columns: [Order ID, Product, Quantity Ordered, Price Each, Order Date, Purchase Address]\n",
            "Index: []\n"
          ]
        }
      ]
    },
    {
      "cell_type": "markdown",
      "source": [
        "**Add Month Column**"
      ],
      "metadata": {
        "id": "3WOP7s85lRN-"
      }
    },
    {
      "cell_type": "code",
      "source": [
        "# Extracting the month component and adding it as a new column\n",
        "s = pd.Series('Order Date')\n",
        "sales_year['Month'] = sales_year['Order Date'].str.slice(stop=2)\n",
        "sales_year.tail()\n"
      ],
      "metadata": {
        "colab": {
          "base_uri": "https://localhost:8080/",
          "height": 206
        },
        "id": "Tf7p53BliSrA",
        "outputId": "33f2c5b9-3c94-4f38-d40b-9b26f11d3f7c"
      },
      "execution_count": null,
      "outputs": [
        {
          "output_type": "execute_result",
          "data": {
            "text/plain": [
              "      Order ID                     Product Quantity Ordered Price Each  \\\n",
              "25112   319666    Lightning Charging Cable                1      14.95   \n",
              "25113   319667       AA Batteries (4-pack)                2       3.84   \n",
              "25114   319668             Vareebadd Phone                1        400   \n",
              "25115   319669            Wired Headphones                1      11.99   \n",
              "25116   319670  Bose SoundSport Headphones                1      99.99   \n",
              "\n",
              "           Order Date                        Purchase Address Month  \n",
              "25112  12/11/19 20:58  14 Madison St, San Francisco, CA 94016    12  \n",
              "25113  12/01/19 12:01    549 Willow St, Los Angeles, CA 90001    12  \n",
              "25114  12/09/19 06:43        273 Wilson St, Seattle, WA 98101    12  \n",
              "25115  12/03/19 10:39          778 River St, Dallas, TX 75001    12  \n",
              "25116  12/21/19 21:45  747 Chestnut St, Los Angeles, CA 90001    12  "
            ],
            "text/html": [
              "\n",
              "  <div id=\"df-23614006-f849-452e-9aff-68ddef8544e2\" class=\"colab-df-container\">\n",
              "    <div>\n",
              "<style scoped>\n",
              "    .dataframe tbody tr th:only-of-type {\n",
              "        vertical-align: middle;\n",
              "    }\n",
              "\n",
              "    .dataframe tbody tr th {\n",
              "        vertical-align: top;\n",
              "    }\n",
              "\n",
              "    .dataframe thead th {\n",
              "        text-align: right;\n",
              "    }\n",
              "</style>\n",
              "<table border=\"1\" class=\"dataframe\">\n",
              "  <thead>\n",
              "    <tr style=\"text-align: right;\">\n",
              "      <th></th>\n",
              "      <th>Order ID</th>\n",
              "      <th>Product</th>\n",
              "      <th>Quantity Ordered</th>\n",
              "      <th>Price Each</th>\n",
              "      <th>Order Date</th>\n",
              "      <th>Purchase Address</th>\n",
              "      <th>Month</th>\n",
              "    </tr>\n",
              "  </thead>\n",
              "  <tbody>\n",
              "    <tr>\n",
              "      <th>25112</th>\n",
              "      <td>319666</td>\n",
              "      <td>Lightning Charging Cable</td>\n",
              "      <td>1</td>\n",
              "      <td>14.95</td>\n",
              "      <td>12/11/19 20:58</td>\n",
              "      <td>14 Madison St, San Francisco, CA 94016</td>\n",
              "      <td>12</td>\n",
              "    </tr>\n",
              "    <tr>\n",
              "      <th>25113</th>\n",
              "      <td>319667</td>\n",
              "      <td>AA Batteries (4-pack)</td>\n",
              "      <td>2</td>\n",
              "      <td>3.84</td>\n",
              "      <td>12/01/19 12:01</td>\n",
              "      <td>549 Willow St, Los Angeles, CA 90001</td>\n",
              "      <td>12</td>\n",
              "    </tr>\n",
              "    <tr>\n",
              "      <th>25114</th>\n",
              "      <td>319668</td>\n",
              "      <td>Vareebadd Phone</td>\n",
              "      <td>1</td>\n",
              "      <td>400</td>\n",
              "      <td>12/09/19 06:43</td>\n",
              "      <td>273 Wilson St, Seattle, WA 98101</td>\n",
              "      <td>12</td>\n",
              "    </tr>\n",
              "    <tr>\n",
              "      <th>25115</th>\n",
              "      <td>319669</td>\n",
              "      <td>Wired Headphones</td>\n",
              "      <td>1</td>\n",
              "      <td>11.99</td>\n",
              "      <td>12/03/19 10:39</td>\n",
              "      <td>778 River St, Dallas, TX 75001</td>\n",
              "      <td>12</td>\n",
              "    </tr>\n",
              "    <tr>\n",
              "      <th>25116</th>\n",
              "      <td>319670</td>\n",
              "      <td>Bose SoundSport Headphones</td>\n",
              "      <td>1</td>\n",
              "      <td>99.99</td>\n",
              "      <td>12/21/19 21:45</td>\n",
              "      <td>747 Chestnut St, Los Angeles, CA 90001</td>\n",
              "      <td>12</td>\n",
              "    </tr>\n",
              "  </tbody>\n",
              "</table>\n",
              "</div>\n",
              "    <div class=\"colab-df-buttons\">\n",
              "\n",
              "  <div class=\"colab-df-container\">\n",
              "    <button class=\"colab-df-convert\" onclick=\"convertToInteractive('df-23614006-f849-452e-9aff-68ddef8544e2')\"\n",
              "            title=\"Convert this dataframe to an interactive table.\"\n",
              "            style=\"display:none;\">\n",
              "\n",
              "  <svg xmlns=\"http://www.w3.org/2000/svg\" height=\"24px\" viewBox=\"0 -960 960 960\">\n",
              "    <path d=\"M120-120v-720h720v720H120Zm60-500h600v-160H180v160Zm220 220h160v-160H400v160Zm0 220h160v-160H400v160ZM180-400h160v-160H180v160Zm440 0h160v-160H620v160ZM180-180h160v-160H180v160Zm440 0h160v-160H620v160Z\"/>\n",
              "  </svg>\n",
              "    </button>\n",
              "\n",
              "  <style>\n",
              "    .colab-df-container {\n",
              "      display:flex;\n",
              "      gap: 12px;\n",
              "    }\n",
              "\n",
              "    .colab-df-convert {\n",
              "      background-color: #E8F0FE;\n",
              "      border: none;\n",
              "      border-radius: 50%;\n",
              "      cursor: pointer;\n",
              "      display: none;\n",
              "      fill: #1967D2;\n",
              "      height: 32px;\n",
              "      padding: 0 0 0 0;\n",
              "      width: 32px;\n",
              "    }\n",
              "\n",
              "    .colab-df-convert:hover {\n",
              "      background-color: #E2EBFA;\n",
              "      box-shadow: 0px 1px 2px rgba(60, 64, 67, 0.3), 0px 1px 3px 1px rgba(60, 64, 67, 0.15);\n",
              "      fill: #174EA6;\n",
              "    }\n",
              "\n",
              "    .colab-df-buttons div {\n",
              "      margin-bottom: 4px;\n",
              "    }\n",
              "\n",
              "    [theme=dark] .colab-df-convert {\n",
              "      background-color: #3B4455;\n",
              "      fill: #D2E3FC;\n",
              "    }\n",
              "\n",
              "    [theme=dark] .colab-df-convert:hover {\n",
              "      background-color: #434B5C;\n",
              "      box-shadow: 0px 1px 3px 1px rgba(0, 0, 0, 0.15);\n",
              "      filter: drop-shadow(0px 1px 2px rgba(0, 0, 0, 0.3));\n",
              "      fill: #FFFFFF;\n",
              "    }\n",
              "  </style>\n",
              "\n",
              "    <script>\n",
              "      const buttonEl =\n",
              "        document.querySelector('#df-23614006-f849-452e-9aff-68ddef8544e2 button.colab-df-convert');\n",
              "      buttonEl.style.display =\n",
              "        google.colab.kernel.accessAllowed ? 'block' : 'none';\n",
              "\n",
              "      async function convertToInteractive(key) {\n",
              "        const element = document.querySelector('#df-23614006-f849-452e-9aff-68ddef8544e2');\n",
              "        const dataTable =\n",
              "          await google.colab.kernel.invokeFunction('convertToInteractive',\n",
              "                                                    [key], {});\n",
              "        if (!dataTable) return;\n",
              "\n",
              "        const docLinkHtml = 'Like what you see? Visit the ' +\n",
              "          '<a target=\"_blank\" href=https://colab.research.google.com/notebooks/data_table.ipynb>data table notebook</a>'\n",
              "          + ' to learn more about interactive tables.';\n",
              "        element.innerHTML = '';\n",
              "        dataTable['output_type'] = 'display_data';\n",
              "        await google.colab.output.renderOutput(dataTable, element);\n",
              "        const docLink = document.createElement('div');\n",
              "        docLink.innerHTML = docLinkHtml;\n",
              "        element.appendChild(docLink);\n",
              "      }\n",
              "    </script>\n",
              "  </div>\n",
              "\n",
              "\n",
              "<div id=\"df-44d92efa-9124-47c0-80ee-af378d2cbc85\">\n",
              "  <button class=\"colab-df-quickchart\" onclick=\"quickchart('df-44d92efa-9124-47c0-80ee-af378d2cbc85')\"\n",
              "            title=\"Suggest charts\"\n",
              "            style=\"display:none;\">\n",
              "\n",
              "<svg xmlns=\"http://www.w3.org/2000/svg\" height=\"24px\"viewBox=\"0 0 24 24\"\n",
              "     width=\"24px\">\n",
              "    <g>\n",
              "        <path d=\"M19 3H5c-1.1 0-2 .9-2 2v14c0 1.1.9 2 2 2h14c1.1 0 2-.9 2-2V5c0-1.1-.9-2-2-2zM9 17H7v-7h2v7zm4 0h-2V7h2v10zm4 0h-2v-4h2v4z\"/>\n",
              "    </g>\n",
              "</svg>\n",
              "  </button>\n",
              "\n",
              "<style>\n",
              "  .colab-df-quickchart {\n",
              "      --bg-color: #E8F0FE;\n",
              "      --fill-color: #1967D2;\n",
              "      --hover-bg-color: #E2EBFA;\n",
              "      --hover-fill-color: #174EA6;\n",
              "      --disabled-fill-color: #AAA;\n",
              "      --disabled-bg-color: #DDD;\n",
              "  }\n",
              "\n",
              "  [theme=dark] .colab-df-quickchart {\n",
              "      --bg-color: #3B4455;\n",
              "      --fill-color: #D2E3FC;\n",
              "      --hover-bg-color: #434B5C;\n",
              "      --hover-fill-color: #FFFFFF;\n",
              "      --disabled-bg-color: #3B4455;\n",
              "      --disabled-fill-color: #666;\n",
              "  }\n",
              "\n",
              "  .colab-df-quickchart {\n",
              "    background-color: var(--bg-color);\n",
              "    border: none;\n",
              "    border-radius: 50%;\n",
              "    cursor: pointer;\n",
              "    display: none;\n",
              "    fill: var(--fill-color);\n",
              "    height: 32px;\n",
              "    padding: 0;\n",
              "    width: 32px;\n",
              "  }\n",
              "\n",
              "  .colab-df-quickchart:hover {\n",
              "    background-color: var(--hover-bg-color);\n",
              "    box-shadow: 0 1px 2px rgba(60, 64, 67, 0.3), 0 1px 3px 1px rgba(60, 64, 67, 0.15);\n",
              "    fill: var(--button-hover-fill-color);\n",
              "  }\n",
              "\n",
              "  .colab-df-quickchart-complete:disabled,\n",
              "  .colab-df-quickchart-complete:disabled:hover {\n",
              "    background-color: var(--disabled-bg-color);\n",
              "    fill: var(--disabled-fill-color);\n",
              "    box-shadow: none;\n",
              "  }\n",
              "\n",
              "  .colab-df-spinner {\n",
              "    border: 2px solid var(--fill-color);\n",
              "    border-color: transparent;\n",
              "    border-bottom-color: var(--fill-color);\n",
              "    animation:\n",
              "      spin 1s steps(1) infinite;\n",
              "  }\n",
              "\n",
              "  @keyframes spin {\n",
              "    0% {\n",
              "      border-color: transparent;\n",
              "      border-bottom-color: var(--fill-color);\n",
              "      border-left-color: var(--fill-color);\n",
              "    }\n",
              "    20% {\n",
              "      border-color: transparent;\n",
              "      border-left-color: var(--fill-color);\n",
              "      border-top-color: var(--fill-color);\n",
              "    }\n",
              "    30% {\n",
              "      border-color: transparent;\n",
              "      border-left-color: var(--fill-color);\n",
              "      border-top-color: var(--fill-color);\n",
              "      border-right-color: var(--fill-color);\n",
              "    }\n",
              "    40% {\n",
              "      border-color: transparent;\n",
              "      border-right-color: var(--fill-color);\n",
              "      border-top-color: var(--fill-color);\n",
              "    }\n",
              "    60% {\n",
              "      border-color: transparent;\n",
              "      border-right-color: var(--fill-color);\n",
              "    }\n",
              "    80% {\n",
              "      border-color: transparent;\n",
              "      border-right-color: var(--fill-color);\n",
              "      border-bottom-color: var(--fill-color);\n",
              "    }\n",
              "    90% {\n",
              "      border-color: transparent;\n",
              "      border-bottom-color: var(--fill-color);\n",
              "    }\n",
              "  }\n",
              "</style>\n",
              "\n",
              "  <script>\n",
              "    async function quickchart(key) {\n",
              "      const quickchartButtonEl =\n",
              "        document.querySelector('#' + key + ' button');\n",
              "      quickchartButtonEl.disabled = true;  // To prevent multiple clicks.\n",
              "      quickchartButtonEl.classList.add('colab-df-spinner');\n",
              "      try {\n",
              "        const charts = await google.colab.kernel.invokeFunction(\n",
              "            'suggestCharts', [key], {});\n",
              "      } catch (error) {\n",
              "        console.error('Error during call to suggestCharts:', error);\n",
              "      }\n",
              "      quickchartButtonEl.classList.remove('colab-df-spinner');\n",
              "      quickchartButtonEl.classList.add('colab-df-quickchart-complete');\n",
              "    }\n",
              "    (() => {\n",
              "      let quickchartButtonEl =\n",
              "        document.querySelector('#df-44d92efa-9124-47c0-80ee-af378d2cbc85 button');\n",
              "      quickchartButtonEl.style.display =\n",
              "        google.colab.kernel.accessAllowed ? 'block' : 'none';\n",
              "    })();\n",
              "  </script>\n",
              "</div>\n",
              "\n",
              "    </div>\n",
              "  </div>\n"
            ]
          },
          "metadata": {},
          "execution_count": 10
        }
      ]
    },
    {
      "cell_type": "markdown",
      "source": [
        "**What was the best month for sales? How much was earned that month**"
      ],
      "metadata": {
        "id": "kIzb3i319lmQ"
      }
    },
    {
      "cell_type": "code",
      "source": [
        "# Converting 'Quantity Ordered' and 'Price Each' to numeric values and handling errors\n",
        "sales_year['Quantity Ordered'] = pd.to_numeric(sales_year['Quantity Ordered'], errors='coerce')\n",
        "sales_year['Price Each'] = pd.to_numeric(sales_year['Price Each'], errors='coerce')\n",
        "\n",
        "# Droping rows with NaN values resulting from non-numeric conversions\n",
        "sales_year = sales_year.dropna(subset=['Quantity Ordered', 'Price Each'])\n",
        "\n",
        "# Calculating total sales for each order\n",
        "sales_year['Total Sales'] = sales_year['Quantity Ordered'] * sales_year['Price Each']\n",
        "\n",
        "# Group by month and calculating the total sales for each month\n",
        "monthly_sales = sales_year.groupby('Month')['Total Sales'].sum()\n",
        "\n",
        "# Finding the best month for sales and the corresponding earnings\n",
        "best_month = monthly_sales.idxmax()\n",
        "earnings_in_best_month = monthly_sales.max()\n",
        "\n",
        "print(f\"The best month for sales was Month {best_month} with earnings of {earnings_in_best_month:,.2f}\")\n"
      ],
      "metadata": {
        "colab": {
          "base_uri": "https://localhost:8080/"
        },
        "id": "bNqCey7ho3uQ",
        "outputId": "e47c7461-26e3-42be-9876-52b20818d27d"
      },
      "execution_count": null,
      "outputs": [
        {
          "output_type": "stream",
          "name": "stdout",
          "text": [
            "The best month for sales was Month 03 with earnings of 5,610,993.26\n"
          ]
        }
      ]
    },
    {
      "cell_type": "markdown",
      "source": [],
      "metadata": {
        "id": "J5yaN6w6HrhN"
      }
    },
    {
      "cell_type": "markdown",
      "source": [
        "**Monthly Sales**"
      ],
      "metadata": {
        "id": "Mjkm4iILr8fK"
      }
    },
    {
      "cell_type": "code",
      "source": [
        "monthly_sales = sales_year.groupby('Month')['Total Sales'].sum()\n",
        "\n",
        "monthly_sales.plot(kind='bar')\n",
        "plt.title('Monthly Sales')\n",
        "plt.xlabel('Month')\n",
        "plt.ylabel('Total Sales')\n",
        "plt.show()"
      ],
      "metadata": {
        "colab": {
          "base_uri": "https://localhost:8080/",
          "height": 475
        },
        "id": "ORu3pXwtsCcI",
        "outputId": "1e727fc2-577a-4839-c45b-67ad04a4d9ae"
      },
      "execution_count": null,
      "outputs": [
        {
          "output_type": "display_data",
          "data": {
            "text/plain": [
              "<Figure size 640x480 with 1 Axes>"
            ],
            "image/png": "[encoded data removed]"
          },
          "metadata": {}
        }
      ]
    },
    {
      "cell_type": "markdown",
      "source": [
        "**Product Performance Analysis**"
      ],
      "metadata": {
        "id": "Qnbj7GqQsdD7"
      }
    },
    {
      "cell_type": "code",
      "source": [
        "# Top-selling products\n",
        "top_products = sales_year.groupby('Product')['Quantity Ordered'].sum().sort_values(ascending=False).head(10)\n",
        "\n",
        "# Bar chart for top-selling products\n",
        "top_products.plot(kind='bar')\n",
        "plt.title('Top Selling Products')\n",
        "plt.xlabel('Product')\n",
        "plt.ylabel('Quantity Ordered')\n",
        "plt.show()\n"
      ],
      "metadata": {
        "colab": {
          "base_uri": "https://localhost:8080/",
          "height": 668
        },
        "id": "IBgWec4Gsiap",
        "outputId": "56c25841-1d2f-48c7-b3f1-0dbfe7add8cb"
      },
      "execution_count": null,
      "outputs": [
        {
          "output_type": "display_data",
          "data": {
            "text/plain": [
              "<Figure size 640x480 with 1 Axes>"
            ],
            "image/png": "[encoded data removed]"
          },
          "metadata": {}
        }
      ]
    },
    {
      "cell_type": "markdown",
      "source": [
        "**What city sold the most product?**"
      ],
      "metadata": {
        "id": "V2EKMTGzRRdd"
      }
    },
    {
      "cell_type": "code",
      "source": [
        "# Converting 'Purchase Address' to string type\n",
        "sales_year['Purchase Address'] = sales_year['Purchase Address'].astype(str)\n",
        "\n",
        "# Extracting city from the postal address\n",
        "sales_year['City'] = sales_year['Purchase Address'].apply(lambda x: x.split(',')[1].strip() if ',' in x else None)\n",
        "\n",
        "# Display the updated DataFrame with the new 'City' column\n",
        "print(sales_year.head())\n"
      ],
      "metadata": {
        "colab": {
          "base_uri": "https://localhost:8080/"
        },
        "id": "mLDH0Hn2RRGW",
        "outputId": "7a11294d-4004-4a7d-e803-2a933e419a2a"
      },
      "execution_count": 8,
      "outputs": [
        {
          "output_type": "stream",
          "name": "stdout",
          "text": [
            "  Order ID                   Product Quantity Ordered Price Each  \\\n",
            "0   141234                    iPhone                1        700   \n",
            "1   141235  Lightning Charging Cable                1      14.95   \n",
            "2   141236          Wired Headphones                2      11.99   \n",
            "3   141237          27in FHD Monitor                1     149.99   \n",
            "4   141238          Wired Headphones                1      11.99   \n",
            "\n",
            "       Order Date                       Purchase Address           City  \n",
            "0  01/22/19 21:25        944 Walnut St, Boston, MA 02215         Boston  \n",
            "1  01/28/19 14:15       185 Maple St, Portland, OR 97035       Portland  \n",
            "2  01/17/19 13:33  538 Adams St, San Francisco, CA 94016  San Francisco  \n",
            "3  01/05/19 20:33     738 10th St, Los Angeles, CA 90001    Los Angeles  \n",
            "4  01/25/19 11:59          387 10th St, Austin, TX 73301         Austin  \n"
          ]
        }
      ]
    },
    {
      "cell_type": "code",
      "source": [
        "# Convert 'Quantity Ordered' to numeric\n",
        "sales_year['Quantity Ordered'] = pd.to_numeric(sales_year['Quantity Ordered'], errors='coerce')\n",
        "\n",
        "# Group by city and calculate the total quantity of products sold in each city\n",
        "city_sales = sales_year.groupby('City')['Quantity Ordered'].sum()\n",
        "\n",
        "# Find the city with the most products sold\n",
        "most_sold_city = city_sales.idxmax()\n",
        "quantity_sold_in_most_sold_city = city_sales.max()\n",
        "\n",
        "print(f\"The city that sold the most products was {most_sold_city} with a total of {quantity_sold_in_most_sold_city} products sold.\")\n"
      ],
      "metadata": {
        "colab": {
          "base_uri": "https://localhost:8080/"
        },
        "id": "KzZg5iXgTUup",
        "outputId": "6c8528ea-c71c-4511-9a7d-b9ae9314a5df"
      },
      "execution_count": 10,
      "outputs": [
        {
          "output_type": "stream",
          "name": "stdout",
          "text": [
            "The city that sold the most products was San Francisco with a total of 49822.0 products sold.\n"
          ]
        }
      ]
    },
    {
      "cell_type": "markdown",
      "source": [
        "**Top 10 Cities**"
      ],
      "metadata": {
        "id": "1K_vQvhTTseH"
      }
    },
    {
      "cell_type": "code",
      "source": [
        "# Group by city and calculate the total quantity of products sold in each city\n",
        "city_sales = sales_year.groupby('City')['Quantity Ordered'].sum()\n",
        "\n",
        "# Sorting the cities based on quantity sold and selecting the top 10\n",
        "top_cities = city_sales.sort_values(ascending=False).head(10)\n",
        "\n",
        "top_cities.plot(kind='bar')\n",
        "plt.title('Top 10 Cities by Quantity Sold')\n",
        "plt.xlabel('City')\n",
        "plt.ylabel('Quantity Sold')\n",
        "plt.show()"
      ],
      "metadata": {
        "colab": {
          "base_uri": "https://localhost:8080/",
          "height": 553
        },
        "id": "L4YfsgnLTwuG",
        "outputId": "022bc98c-d569-44da-924a-f83c690c38c7"
      },
      "execution_count": 11,
      "outputs": [
        {
          "output_type": "display_data",
          "data": {
            "text/plain": [
              "<Figure size 640x480 with 1 Axes>"
            ],
            "image/png": "[encoded data removed]"
          },
          "metadata": {}
        }
      ]
    },
    {
      "cell_type": "markdown",
      "source": [
        "**What time should we display advertisemens to maximize the likelihood of customer’s buying product?**"
      ],
      "metadata": {
        "id": "FIo0jMiBUQh0"
      }
    },
    {
      "cell_type": "code",
      "source": [
        "# Convert 'Order Date' to datetime format with errors='coerce'\n",
        "sales_year['Order Date'] = pd.to_datetime(sales_year['Order Date'], errors='coerce')\n",
        "\n",
        "# Drop rows with NaT values resulting from invalid date-time conversions\n",
        "sales_year = sales_year.dropna(subset=['Order Date'])\n",
        "\n",
        "# Extract the hour from the 'Order Date' and create a new column 'Order Hour'\n",
        "sales_year.loc[:, 'Order Hour'] = sales_year['Order Date'].dt.hour\n",
        "\n",
        "# Group by hour and calculate the total quantity of products sold in each hour\n",
        "hourly_sales = sales_year.groupby('Order Hour')['Quantity Ordered'].sum()\n",
        "\n",
        "hourly_sales.plot(kind='bar')\n",
        "plt.title('Hourly Sales')\n",
        "plt.xlabel('Hour of the Day')\n",
        "plt.ylabel('Quantity Sold')\n",
        "plt.show()\n",
        "\n"
      ],
      "metadata": {
        "colab": {
          "base_uri": "https://localhost:8080/",
          "height": 475
        },
        "id": "Qt6IcU-2UTVo",
        "outputId": "2e692887-4505-47ba-a5c3-a11d39ea3cc9"
      },
      "execution_count": 14,
      "outputs": [
        {
          "output_type": "display_data",
          "data": {
            "text/plain": [
              "<Figure size 640x480 with 1 Axes>"
            ],
            "image/png": "[encoded data removed]"
          },
          "metadata": {}
        }
      ]
    },
    {
      "cell_type": "markdown",
      "source": [
        "It appears that the peak hours for customer purchases are during 10 AM to 12 PM and 6 PM to 8 PM. These time periods consistently exhibit higher sales, suggesting that customers are more likely to make purchases during these hours. Therefore, we recommend focusing and optimizing your advertisement displays during these peak hours to maximize the likelihood of customer engagement and product purchases."
      ],
      "metadata": {
        "id": "D4zLqlZUVxBK"
      }
    },
    {
      "cell_type": "markdown",
      "source": [
        "**What products are most often sold together?**"
      ],
      "metadata": {
        "id": "mbjA9cnwWMTE"
      }
    },
    {
      "cell_type": "code",
      "source": [
        "# Identifying rows with the same 'Order ID' and creating a new column 'Grouped Products'\n",
        "sales_year['Grouped Products'] = sales_year.groupby('Order ID')['Product'].transform(lambda x: ', '.join(x))\n",
        "\n",
        "# Droping duplicate rows to keep unique order groups\n",
        "unique_order_groups = sales_year[['Order ID', 'Grouped Products']].drop_duplicates()\n",
        "\n",
        "# Counting the frequency of each unique group of products\n",
        "from itertools import combinations\n",
        "from collections import Counter\n",
        "\n",
        "count = Counter()\n",
        "\n",
        "for row in unique_order_groups['Grouped Products']:\n",
        "    row_list = row.split(', ')\n",
        "    count.update(Counter(combinations(row_list, 2)))\n",
        "\n",
        "# Display the most common product combinations\n",
        "for key, value in count.most_common(10):\n",
        "    print(f\"Products: {', '.join(key)}, Count: {value}\")\n"
      ],
      "metadata": {
        "colab": {
          "base_uri": "https://localhost:8080/"
        },
        "id": "3-x8SKOnWQpK",
        "outputId": "bbbac62d-2623-4a76-82c4-da52822c2ebc"
      },
      "execution_count": 15,
      "outputs": [
        {
          "output_type": "stream",
          "name": "stdout",
          "text": [
            "Products: USB-C Charging Cable, USB-C Charging Cable, Count: 1828\n",
            "Products: Lightning Charging Cable, Lightning Charging Cable, Count: 1819\n",
            "Products: AA Batteries (4-pack), AA Batteries (4-pack), Count: 1717\n",
            "Products: AAA Batteries (4-pack), AAA Batteries (4-pack), Count: 1694\n",
            "Products: Wired Headphones, Wired Headphones, Count: 1547\n",
            "Products: Apple Airpods Headphones, Apple Airpods Headphones, Count: 1351\n",
            "Products: Bose SoundSport Headphones, Bose SoundSport Headphones, Count: 1217\n",
            "Products: iPhone, Lightning Charging Cable, Count: 1070\n",
            "Products: Google Phone, USB-C Charging Cable, Count: 1066\n",
            "Products: 27in FHD Monitor, 27in FHD Monitor, Count: 619\n"
          ]
        }
      ]
    },
    {
      "cell_type": "markdown",
      "source": [
        "**What product sold the most? Why do you think it sold the most?**"
      ],
      "metadata": {
        "id": "afjEeOJTXDM4"
      }
    },
    {
      "cell_type": "code",
      "source": [
        "# Group by product and calculate the total quantity of each product sold\n",
        "product_sales = sales_year.groupby('Product')['Quantity Ordered'].sum()\n",
        "\n",
        "# Find the product that sold the most\n",
        "best_selling_product = product_sales.idxmax()\n",
        "quantity_sold_of_best_selling_product = product_sales.max()\n",
        "\n",
        "print(f\"The product that sold the most was '{best_selling_product}' with a total quantity sold of {quantity_sold_of_best_selling_product} units.\")\n"
      ],
      "metadata": {
        "colab": {
          "base_uri": "https://localhost:8080/"
        },
        "id": "fGyil1tqXCym",
        "outputId": "04682f0a-56e5-4c7a-a730-ab9585b03ce4"
      },
      "execution_count": 16,
      "outputs": [
        {
          "output_type": "stream",
          "name": "stdout",
          "text": [
            "The product that sold the most was 'AAA Batteries (4-pack)' with a total quantity sold of 30564.0 units.\n"
          ]
        }
      ]
    }
  ]
}